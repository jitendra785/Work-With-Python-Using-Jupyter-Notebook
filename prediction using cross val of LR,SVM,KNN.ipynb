{
 "cells": [
  {
   "cell_type": "code",
   "execution_count": 1,
   "id": "f6cc1e5f",
   "metadata": {},
   "outputs": [],
   "source": [
    "import pandas as pd\n",
    "import numpy as np\n",
    "\n"
   ]
  },
  {
   "cell_type": "code",
   "execution_count": 2,
   "id": "ce590e54",
   "metadata": {},
   "outputs": [],
   "source": [
    "dataset=pd.read_csv(r\"D:\\Jitu\\Jitendra\\J Dataset\\Heart_Disease_Prediction1.csv\")"
   ]
  },
  {
   "cell_type": "code",
   "execution_count": 3,
   "id": "847782e8",
   "metadata": {},
   "outputs": [
    {
     "data": {
      "text/html": [
       "<div>\n",
       "<style scoped>\n",
       "    .dataframe tbody tr th:only-of-type {\n",
       "        vertical-align: middle;\n",
       "    }\n",
       "\n",
       "    .dataframe tbody tr th {\n",
       "        vertical-align: top;\n",
       "    }\n",
       "\n",
       "    .dataframe thead th {\n",
       "        text-align: right;\n",
       "    }\n",
       "</style>\n",
       "<table border=\"1\" class=\"dataframe\">\n",
       "  <thead>\n",
       "    <tr style=\"text-align: right;\">\n",
       "      <th></th>\n",
       "      <th>Age</th>\n",
       "      <th>Sex</th>\n",
       "      <th>Chest pain type</th>\n",
       "      <th>BP</th>\n",
       "      <th>Cholesterol</th>\n",
       "      <th>FBS over 120</th>\n",
       "      <th>EKG results</th>\n",
       "      <th>Max HR</th>\n",
       "      <th>Exercise angina</th>\n",
       "      <th>ST depression</th>\n",
       "      <th>Slope of ST</th>\n",
       "      <th>Number of vessels fluro</th>\n",
       "      <th>Thallium</th>\n",
       "      <th>Heart Disease</th>\n",
       "    </tr>\n",
       "  </thead>\n",
       "  <tbody>\n",
       "    <tr>\n",
       "      <th>0</th>\n",
       "      <td>70</td>\n",
       "      <td>1</td>\n",
       "      <td>4</td>\n",
       "      <td>130</td>\n",
       "      <td>322</td>\n",
       "      <td>0</td>\n",
       "      <td>2</td>\n",
       "      <td>109</td>\n",
       "      <td>0</td>\n",
       "      <td>2.4</td>\n",
       "      <td>2</td>\n",
       "      <td>3</td>\n",
       "      <td>3</td>\n",
       "      <td>Presence</td>\n",
       "    </tr>\n",
       "    <tr>\n",
       "      <th>1</th>\n",
       "      <td>67</td>\n",
       "      <td>0</td>\n",
       "      <td>3</td>\n",
       "      <td>115</td>\n",
       "      <td>564</td>\n",
       "      <td>0</td>\n",
       "      <td>2</td>\n",
       "      <td>160</td>\n",
       "      <td>0</td>\n",
       "      <td>1.6</td>\n",
       "      <td>2</td>\n",
       "      <td>0</td>\n",
       "      <td>7</td>\n",
       "      <td>Absence</td>\n",
       "    </tr>\n",
       "    <tr>\n",
       "      <th>2</th>\n",
       "      <td>57</td>\n",
       "      <td>1</td>\n",
       "      <td>2</td>\n",
       "      <td>124</td>\n",
       "      <td>261</td>\n",
       "      <td>0</td>\n",
       "      <td>0</td>\n",
       "      <td>141</td>\n",
       "      <td>0</td>\n",
       "      <td>0.3</td>\n",
       "      <td>1</td>\n",
       "      <td>0</td>\n",
       "      <td>7</td>\n",
       "      <td>Presence</td>\n",
       "    </tr>\n",
       "    <tr>\n",
       "      <th>3</th>\n",
       "      <td>64</td>\n",
       "      <td>1</td>\n",
       "      <td>4</td>\n",
       "      <td>128</td>\n",
       "      <td>263</td>\n",
       "      <td>0</td>\n",
       "      <td>0</td>\n",
       "      <td>105</td>\n",
       "      <td>1</td>\n",
       "      <td>0.2</td>\n",
       "      <td>2</td>\n",
       "      <td>1</td>\n",
       "      <td>7</td>\n",
       "      <td>Absence</td>\n",
       "    </tr>\n",
       "    <tr>\n",
       "      <th>4</th>\n",
       "      <td>74</td>\n",
       "      <td>0</td>\n",
       "      <td>2</td>\n",
       "      <td>120</td>\n",
       "      <td>269</td>\n",
       "      <td>0</td>\n",
       "      <td>2</td>\n",
       "      <td>121</td>\n",
       "      <td>1</td>\n",
       "      <td>0.2</td>\n",
       "      <td>1</td>\n",
       "      <td>1</td>\n",
       "      <td>3</td>\n",
       "      <td>Absence</td>\n",
       "    </tr>\n",
       "    <tr>\n",
       "      <th>...</th>\n",
       "      <td>...</td>\n",
       "      <td>...</td>\n",
       "      <td>...</td>\n",
       "      <td>...</td>\n",
       "      <td>...</td>\n",
       "      <td>...</td>\n",
       "      <td>...</td>\n",
       "      <td>...</td>\n",
       "      <td>...</td>\n",
       "      <td>...</td>\n",
       "      <td>...</td>\n",
       "      <td>...</td>\n",
       "      <td>...</td>\n",
       "      <td>...</td>\n",
       "    </tr>\n",
       "    <tr>\n",
       "      <th>265</th>\n",
       "      <td>52</td>\n",
       "      <td>1</td>\n",
       "      <td>3</td>\n",
       "      <td>172</td>\n",
       "      <td>199</td>\n",
       "      <td>1</td>\n",
       "      <td>0</td>\n",
       "      <td>162</td>\n",
       "      <td>0</td>\n",
       "      <td>0.5</td>\n",
       "      <td>1</td>\n",
       "      <td>0</td>\n",
       "      <td>7</td>\n",
       "      <td>Absence</td>\n",
       "    </tr>\n",
       "    <tr>\n",
       "      <th>266</th>\n",
       "      <td>44</td>\n",
       "      <td>1</td>\n",
       "      <td>2</td>\n",
       "      <td>120</td>\n",
       "      <td>263</td>\n",
       "      <td>0</td>\n",
       "      <td>0</td>\n",
       "      <td>173</td>\n",
       "      <td>0</td>\n",
       "      <td>0.0</td>\n",
       "      <td>1</td>\n",
       "      <td>0</td>\n",
       "      <td>7</td>\n",
       "      <td>Absence</td>\n",
       "    </tr>\n",
       "    <tr>\n",
       "      <th>267</th>\n",
       "      <td>56</td>\n",
       "      <td>0</td>\n",
       "      <td>2</td>\n",
       "      <td>140</td>\n",
       "      <td>294</td>\n",
       "      <td>0</td>\n",
       "      <td>2</td>\n",
       "      <td>153</td>\n",
       "      <td>0</td>\n",
       "      <td>1.3</td>\n",
       "      <td>2</td>\n",
       "      <td>0</td>\n",
       "      <td>3</td>\n",
       "      <td>Absence</td>\n",
       "    </tr>\n",
       "    <tr>\n",
       "      <th>268</th>\n",
       "      <td>57</td>\n",
       "      <td>1</td>\n",
       "      <td>4</td>\n",
       "      <td>140</td>\n",
       "      <td>192</td>\n",
       "      <td>0</td>\n",
       "      <td>0</td>\n",
       "      <td>148</td>\n",
       "      <td>0</td>\n",
       "      <td>0.4</td>\n",
       "      <td>2</td>\n",
       "      <td>0</td>\n",
       "      <td>6</td>\n",
       "      <td>Absence</td>\n",
       "    </tr>\n",
       "    <tr>\n",
       "      <th>269</th>\n",
       "      <td>67</td>\n",
       "      <td>1</td>\n",
       "      <td>4</td>\n",
       "      <td>160</td>\n",
       "      <td>286</td>\n",
       "      <td>0</td>\n",
       "      <td>2</td>\n",
       "      <td>108</td>\n",
       "      <td>1</td>\n",
       "      <td>1.5</td>\n",
       "      <td>2</td>\n",
       "      <td>3</td>\n",
       "      <td>3</td>\n",
       "      <td>Presence</td>\n",
       "    </tr>\n",
       "  </tbody>\n",
       "</table>\n",
       "<p>270 rows × 14 columns</p>\n",
       "</div>"
      ],
      "text/plain": [
       "     Age  Sex  Chest pain type   BP  Cholesterol  FBS over 120  EKG results  \\\n",
       "0     70    1                4  130          322             0            2   \n",
       "1     67    0                3  115          564             0            2   \n",
       "2     57    1                2  124          261             0            0   \n",
       "3     64    1                4  128          263             0            0   \n",
       "4     74    0                2  120          269             0            2   \n",
       "..   ...  ...              ...  ...          ...           ...          ...   \n",
       "265   52    1                3  172          199             1            0   \n",
       "266   44    1                2  120          263             0            0   \n",
       "267   56    0                2  140          294             0            2   \n",
       "268   57    1                4  140          192             0            0   \n",
       "269   67    1                4  160          286             0            2   \n",
       "\n",
       "     Max HR  Exercise angina  ST depression  Slope of ST  \\\n",
       "0       109                0            2.4            2   \n",
       "1       160                0            1.6            2   \n",
       "2       141                0            0.3            1   \n",
       "3       105                1            0.2            2   \n",
       "4       121                1            0.2            1   \n",
       "..      ...              ...            ...          ...   \n",
       "265     162                0            0.5            1   \n",
       "266     173                0            0.0            1   \n",
       "267     153                0            1.3            2   \n",
       "268     148                0            0.4            2   \n",
       "269     108                1            1.5            2   \n",
       "\n",
       "     Number of vessels fluro  Thallium Heart Disease  \n",
       "0                          3         3      Presence  \n",
       "1                          0         7       Absence  \n",
       "2                          0         7      Presence  \n",
       "3                          1         7       Absence  \n",
       "4                          1         3       Absence  \n",
       "..                       ...       ...           ...  \n",
       "265                        0         7       Absence  \n",
       "266                        0         7       Absence  \n",
       "267                        0         3       Absence  \n",
       "268                        0         6       Absence  \n",
       "269                        3         3      Presence  \n",
       "\n",
       "[270 rows x 14 columns]"
      ]
     },
     "execution_count": 3,
     "metadata": {},
     "output_type": "execute_result"
    }
   ],
   "source": [
    "dataset"
   ]
  },
  {
   "cell_type": "code",
   "execution_count": 4,
   "id": "e65979f6",
   "metadata": {},
   "outputs": [
    {
     "name": "stdout",
     "output_type": "stream",
     "text": [
      "<class 'pandas.core.frame.DataFrame'>\n",
      "RangeIndex: 270 entries, 0 to 269\n",
      "Data columns (total 14 columns):\n",
      " #   Column                   Non-Null Count  Dtype  \n",
      "---  ------                   --------------  -----  \n",
      " 0   Age                      270 non-null    int64  \n",
      " 1   Sex                      270 non-null    int64  \n",
      " 2   Chest pain type          270 non-null    int64  \n",
      " 3   BP                       270 non-null    int64  \n",
      " 4   Cholesterol              270 non-null    int64  \n",
      " 5   FBS over 120             270 non-null    int64  \n",
      " 6   EKG results              270 non-null    int64  \n",
      " 7   Max HR                   270 non-null    int64  \n",
      " 8   Exercise angina          270 non-null    int64  \n",
      " 9   ST depression            270 non-null    float64\n",
      " 10  Slope of ST              270 non-null    int64  \n",
      " 11  Number of vessels fluro  270 non-null    int64  \n",
      " 12  Thallium                 270 non-null    int64  \n",
      " 13  Heart Disease            270 non-null    object \n",
      "dtypes: float64(1), int64(12), object(1)\n",
      "memory usage: 29.7+ KB\n"
     ]
    }
   ],
   "source": [
    "dataset.info()"
   ]
  },
  {
   "cell_type": "code",
   "execution_count": 5,
   "id": "36fcb538",
   "metadata": {},
   "outputs": [],
   "source": [
    "# from sklearn.preprocessing import LabelEncoder\n",
    "# L1 = LabelEncoder()\n",
    "# dataset[\"Heart Disease\"]=L1.fit_transform(dataset[\"Heart Disease\"])\n",
    "\n",
    "# # # types of lebeling\n",
    "# # 1) LabelEncoder\n",
    "# # 2) Map function \n",
    "# # 3) OneHotEncoder using get_dumies\n",
    "\n",
    "# dataset"
   ]
  },
  {
   "cell_type": "code",
   "execution_count": 6,
   "id": "a11ed185",
   "metadata": {},
   "outputs": [],
   "source": [
    "## Labeling Using One Hot Encoder\n",
    "# one_hot_encoded_data = pd.get_dummies(dataset, columns = [\"Heart Disease\"])\n",
    "# one_hot_encoded_data\n"
   ]
  },
  {
   "cell_type": "code",
   "execution_count": 7,
   "id": "44358ce0",
   "metadata": {},
   "outputs": [
    {
     "data": {
      "text/html": [
       "<div>\n",
       "<style scoped>\n",
       "    .dataframe tbody tr th:only-of-type {\n",
       "        vertical-align: middle;\n",
       "    }\n",
       "\n",
       "    .dataframe tbody tr th {\n",
       "        vertical-align: top;\n",
       "    }\n",
       "\n",
       "    .dataframe thead th {\n",
       "        text-align: right;\n",
       "    }\n",
       "</style>\n",
       "<table border=\"1\" class=\"dataframe\">\n",
       "  <thead>\n",
       "    <tr style=\"text-align: right;\">\n",
       "      <th></th>\n",
       "      <th>Age</th>\n",
       "      <th>Sex</th>\n",
       "      <th>Chest pain type</th>\n",
       "      <th>BP</th>\n",
       "      <th>Cholesterol</th>\n",
       "      <th>FBS over 120</th>\n",
       "      <th>EKG results</th>\n",
       "      <th>Max HR</th>\n",
       "      <th>Exercise angina</th>\n",
       "      <th>ST depression</th>\n",
       "      <th>Slope of ST</th>\n",
       "      <th>Number of vessels fluro</th>\n",
       "      <th>Thallium</th>\n",
       "      <th>Heart Disease</th>\n",
       "    </tr>\n",
       "  </thead>\n",
       "  <tbody>\n",
       "    <tr>\n",
       "      <th>0</th>\n",
       "      <td>70</td>\n",
       "      <td>1</td>\n",
       "      <td>4</td>\n",
       "      <td>130</td>\n",
       "      <td>322</td>\n",
       "      <td>0</td>\n",
       "      <td>2</td>\n",
       "      <td>109</td>\n",
       "      <td>0</td>\n",
       "      <td>2.4</td>\n",
       "      <td>2</td>\n",
       "      <td>3</td>\n",
       "      <td>3</td>\n",
       "      <td>1</td>\n",
       "    </tr>\n",
       "    <tr>\n",
       "      <th>1</th>\n",
       "      <td>67</td>\n",
       "      <td>0</td>\n",
       "      <td>3</td>\n",
       "      <td>115</td>\n",
       "      <td>564</td>\n",
       "      <td>0</td>\n",
       "      <td>2</td>\n",
       "      <td>160</td>\n",
       "      <td>0</td>\n",
       "      <td>1.6</td>\n",
       "      <td>2</td>\n",
       "      <td>0</td>\n",
       "      <td>7</td>\n",
       "      <td>0</td>\n",
       "    </tr>\n",
       "    <tr>\n",
       "      <th>2</th>\n",
       "      <td>57</td>\n",
       "      <td>1</td>\n",
       "      <td>2</td>\n",
       "      <td>124</td>\n",
       "      <td>261</td>\n",
       "      <td>0</td>\n",
       "      <td>0</td>\n",
       "      <td>141</td>\n",
       "      <td>0</td>\n",
       "      <td>0.3</td>\n",
       "      <td>1</td>\n",
       "      <td>0</td>\n",
       "      <td>7</td>\n",
       "      <td>1</td>\n",
       "    </tr>\n",
       "    <tr>\n",
       "      <th>3</th>\n",
       "      <td>64</td>\n",
       "      <td>1</td>\n",
       "      <td>4</td>\n",
       "      <td>128</td>\n",
       "      <td>263</td>\n",
       "      <td>0</td>\n",
       "      <td>0</td>\n",
       "      <td>105</td>\n",
       "      <td>1</td>\n",
       "      <td>0.2</td>\n",
       "      <td>2</td>\n",
       "      <td>1</td>\n",
       "      <td>7</td>\n",
       "      <td>0</td>\n",
       "    </tr>\n",
       "    <tr>\n",
       "      <th>4</th>\n",
       "      <td>74</td>\n",
       "      <td>0</td>\n",
       "      <td>2</td>\n",
       "      <td>120</td>\n",
       "      <td>269</td>\n",
       "      <td>0</td>\n",
       "      <td>2</td>\n",
       "      <td>121</td>\n",
       "      <td>1</td>\n",
       "      <td>0.2</td>\n",
       "      <td>1</td>\n",
       "      <td>1</td>\n",
       "      <td>3</td>\n",
       "      <td>0</td>\n",
       "    </tr>\n",
       "    <tr>\n",
       "      <th>...</th>\n",
       "      <td>...</td>\n",
       "      <td>...</td>\n",
       "      <td>...</td>\n",
       "      <td>...</td>\n",
       "      <td>...</td>\n",
       "      <td>...</td>\n",
       "      <td>...</td>\n",
       "      <td>...</td>\n",
       "      <td>...</td>\n",
       "      <td>...</td>\n",
       "      <td>...</td>\n",
       "      <td>...</td>\n",
       "      <td>...</td>\n",
       "      <td>...</td>\n",
       "    </tr>\n",
       "    <tr>\n",
       "      <th>265</th>\n",
       "      <td>52</td>\n",
       "      <td>1</td>\n",
       "      <td>3</td>\n",
       "      <td>172</td>\n",
       "      <td>199</td>\n",
       "      <td>1</td>\n",
       "      <td>0</td>\n",
       "      <td>162</td>\n",
       "      <td>0</td>\n",
       "      <td>0.5</td>\n",
       "      <td>1</td>\n",
       "      <td>0</td>\n",
       "      <td>7</td>\n",
       "      <td>0</td>\n",
       "    </tr>\n",
       "    <tr>\n",
       "      <th>266</th>\n",
       "      <td>44</td>\n",
       "      <td>1</td>\n",
       "      <td>2</td>\n",
       "      <td>120</td>\n",
       "      <td>263</td>\n",
       "      <td>0</td>\n",
       "      <td>0</td>\n",
       "      <td>173</td>\n",
       "      <td>0</td>\n",
       "      <td>0.0</td>\n",
       "      <td>1</td>\n",
       "      <td>0</td>\n",
       "      <td>7</td>\n",
       "      <td>0</td>\n",
       "    </tr>\n",
       "    <tr>\n",
       "      <th>267</th>\n",
       "      <td>56</td>\n",
       "      <td>0</td>\n",
       "      <td>2</td>\n",
       "      <td>140</td>\n",
       "      <td>294</td>\n",
       "      <td>0</td>\n",
       "      <td>2</td>\n",
       "      <td>153</td>\n",
       "      <td>0</td>\n",
       "      <td>1.3</td>\n",
       "      <td>2</td>\n",
       "      <td>0</td>\n",
       "      <td>3</td>\n",
       "      <td>0</td>\n",
       "    </tr>\n",
       "    <tr>\n",
       "      <th>268</th>\n",
       "      <td>57</td>\n",
       "      <td>1</td>\n",
       "      <td>4</td>\n",
       "      <td>140</td>\n",
       "      <td>192</td>\n",
       "      <td>0</td>\n",
       "      <td>0</td>\n",
       "      <td>148</td>\n",
       "      <td>0</td>\n",
       "      <td>0.4</td>\n",
       "      <td>2</td>\n",
       "      <td>0</td>\n",
       "      <td>6</td>\n",
       "      <td>0</td>\n",
       "    </tr>\n",
       "    <tr>\n",
       "      <th>269</th>\n",
       "      <td>67</td>\n",
       "      <td>1</td>\n",
       "      <td>4</td>\n",
       "      <td>160</td>\n",
       "      <td>286</td>\n",
       "      <td>0</td>\n",
       "      <td>2</td>\n",
       "      <td>108</td>\n",
       "      <td>1</td>\n",
       "      <td>1.5</td>\n",
       "      <td>2</td>\n",
       "      <td>3</td>\n",
       "      <td>3</td>\n",
       "      <td>1</td>\n",
       "    </tr>\n",
       "  </tbody>\n",
       "</table>\n",
       "<p>270 rows × 14 columns</p>\n",
       "</div>"
      ],
      "text/plain": [
       "     Age  Sex  Chest pain type   BP  Cholesterol  FBS over 120  EKG results  \\\n",
       "0     70    1                4  130          322             0            2   \n",
       "1     67    0                3  115          564             0            2   \n",
       "2     57    1                2  124          261             0            0   \n",
       "3     64    1                4  128          263             0            0   \n",
       "4     74    0                2  120          269             0            2   \n",
       "..   ...  ...              ...  ...          ...           ...          ...   \n",
       "265   52    1                3  172          199             1            0   \n",
       "266   44    1                2  120          263             0            0   \n",
       "267   56    0                2  140          294             0            2   \n",
       "268   57    1                4  140          192             0            0   \n",
       "269   67    1                4  160          286             0            2   \n",
       "\n",
       "     Max HR  Exercise angina  ST depression  Slope of ST  \\\n",
       "0       109                0            2.4            2   \n",
       "1       160                0            1.6            2   \n",
       "2       141                0            0.3            1   \n",
       "3       105                1            0.2            2   \n",
       "4       121                1            0.2            1   \n",
       "..      ...              ...            ...          ...   \n",
       "265     162                0            0.5            1   \n",
       "266     173                0            0.0            1   \n",
       "267     153                0            1.3            2   \n",
       "268     148                0            0.4            2   \n",
       "269     108                1            1.5            2   \n",
       "\n",
       "     Number of vessels fluro  Thallium  Heart Disease  \n",
       "0                          3         3              1  \n",
       "1                          0         7              0  \n",
       "2                          0         7              1  \n",
       "3                          1         7              0  \n",
       "4                          1         3              0  \n",
       "..                       ...       ...            ...  \n",
       "265                        0         7              0  \n",
       "266                        0         7              0  \n",
       "267                        0         3              0  \n",
       "268                        0         6              0  \n",
       "269                        3         3              1  \n",
       "\n",
       "[270 rows x 14 columns]"
      ]
     },
     "execution_count": 7,
     "metadata": {},
     "output_type": "execute_result"
    }
   ],
   "source": [
    "#### Labeling Using Map Function\n",
    "dataset[\"Heart Disease\"]=dataset[\"Heart Disease\"].map({'Presence':1,'Absence':0})\n",
    "dataset"
   ]
  },
  {
   "cell_type": "code",
   "execution_count": 8,
   "id": "bc541adb",
   "metadata": {},
   "outputs": [
    {
     "data": {
      "text/plain": [
       "(270, 14)"
      ]
     },
     "execution_count": 8,
     "metadata": {},
     "output_type": "execute_result"
    }
   ],
   "source": [
    "dataset.shape"
   ]
  },
  {
   "cell_type": "code",
   "execution_count": 9,
   "id": "2544f89b",
   "metadata": {},
   "outputs": [
    {
     "data": {
      "text/plain": [
       "array([[70.,  1.,  4., ...,  2.,  3.,  3.],\n",
       "       [67.,  0.,  3., ...,  2.,  0.,  7.],\n",
       "       [57.,  1.,  2., ...,  1.,  0.,  7.],\n",
       "       ...,\n",
       "       [56.,  0.,  2., ...,  2.,  0.,  3.],\n",
       "       [57.,  1.,  4., ...,  2.,  0.,  6.],\n",
       "       [67.,  1.,  4., ...,  2.,  3.,  3.]])"
      ]
     },
     "execution_count": 9,
     "metadata": {},
     "output_type": "execute_result"
    }
   ],
   "source": [
    "x=dataset.iloc[:,:-1].values\n",
    "x"
   ]
  },
  {
   "cell_type": "code",
   "execution_count": 10,
   "id": "48754c31",
   "metadata": {},
   "outputs": [
    {
     "data": {
      "text/plain": [
       "array([1, 0, 1, 0, 0, 0, 1, 1, 1, 1, 0, 0, 0, 1, 0, 0, 1, 1, 0, 0, 1, 0,\n",
       "       0, 0, 0, 0, 0, 0, 1, 0, 1, 0, 0, 1, 1, 1, 1, 1, 0, 0, 1, 0, 0, 0,\n",
       "       1, 0, 1, 1, 1, 1, 1, 0, 0, 0, 0, 0, 1, 0, 1, 1, 0, 1, 0, 0, 0, 1,\n",
       "       0, 1, 0, 1, 1, 0, 0, 0, 0, 1, 0, 0, 0, 0, 1, 1, 1, 0, 0, 0, 0, 0,\n",
       "       0, 1, 0, 1, 1, 1, 1, 1, 0, 1, 0, 0, 0, 1, 0, 1, 1, 1, 0, 1, 1, 0,\n",
       "       1, 0, 1, 0, 0, 0, 1, 1, 0, 1, 1, 1, 1, 0, 0, 0, 1, 0, 0, 1, 1, 1,\n",
       "       0, 1, 0, 0, 0, 1, 0, 0, 1, 0, 1, 0, 1, 1, 1, 1, 1, 0, 0, 0, 0, 0,\n",
       "       0, 0, 1, 0, 0, 1, 1, 1, 0, 1, 0, 0, 0, 0, 0, 1, 0, 1, 1, 0, 0, 1,\n",
       "       1, 1, 1, 0, 0, 1, 1, 0, 0, 0, 1, 0, 0, 1, 0, 1, 0, 1, 0, 0, 0, 0,\n",
       "       0, 1, 0, 1, 1, 1, 1, 0, 0, 0, 1, 0, 1, 0, 0, 1, 0, 0, 0, 0, 0, 0,\n",
       "       1, 1, 0, 1, 0, 0, 1, 1, 0, 0, 1, 1, 0, 1, 0, 1, 0, 1, 0, 0, 1, 0,\n",
       "       0, 1, 0, 1, 1, 0, 1, 1, 1, 0, 1, 0, 0, 0, 0, 1, 1, 0, 0, 1, 1, 0,\n",
       "       1, 0, 0, 0, 0, 1], dtype=int64)"
      ]
     },
     "execution_count": 10,
     "metadata": {},
     "output_type": "execute_result"
    }
   ],
   "source": [
    "y=dataset.iloc[:,-1].values\n",
    "y"
   ]
  },
  {
   "cell_type": "code",
   "execution_count": 11,
   "id": "fa4a2e51",
   "metadata": {},
   "outputs": [
    {
     "name": "stdout",
     "output_type": "stream",
     "text": [
      "Counter({0: 150, 1: 120})\n"
     ]
    }
   ],
   "source": [
    "from collections import Counter\n",
    "print(Counter(y))"
   ]
  },
  {
   "cell_type": "code",
   "execution_count": null,
   "id": "3c21c176",
   "metadata": {},
   "outputs": [],
   "source": []
  },
  {
   "cell_type": "code",
   "execution_count": 12,
   "id": "4f1dfd27",
   "metadata": {},
   "outputs": [],
   "source": [
    "from imblearn.over_sampling import SMOTE     #1) Under Sampling\n",
    "sm=SMOTE()                                   #2) Over Sampling\n",
    "x_data,y_data=sm.fit_resample(x,y)           #3) SMOTE\n"
   ]
  },
  {
   "cell_type": "code",
   "execution_count": 13,
   "id": "10d11d49",
   "metadata": {},
   "outputs": [
    {
     "data": {
      "text/plain": [
       "array([[70.        ,  1.        ,  4.        , ...,  2.        ,\n",
       "         3.        ,  3.        ],\n",
       "       [67.        ,  0.        ,  3.        , ...,  2.        ,\n",
       "         0.        ,  7.        ],\n",
       "       [57.        ,  1.        ,  2.        , ...,  1.        ,\n",
       "         0.        ,  7.        ],\n",
       "       ...,\n",
       "       [62.37222821,  0.        ,  4.        , ...,  1.6861141 ,\n",
       "         2.05834231,  5.74445641],\n",
       "       [46.19629123,  1.        ,  3.80370877, ...,  1.        ,\n",
       "         0.        ,  6.2148351 ],\n",
       "       [47.84993357,  0.79445183,  4.        , ...,  2.        ,\n",
       "         1.58890365,  6.1778073 ]])"
      ]
     },
     "execution_count": 13,
     "metadata": {},
     "output_type": "execute_result"
    }
   ],
   "source": [
    "x_data"
   ]
  },
  {
   "cell_type": "code",
   "execution_count": 14,
   "id": "bb8c4aec",
   "metadata": {},
   "outputs": [
    {
     "data": {
      "text/plain": [
       "array([1, 0, 1, 0, 0, 0, 1, 1, 1, 1, 0, 0, 0, 1, 0, 0, 1, 1, 0, 0, 1, 0,\n",
       "       0, 0, 0, 0, 0, 0, 1, 0, 1, 0, 0, 1, 1, 1, 1, 1, 0, 0, 1, 0, 0, 0,\n",
       "       1, 0, 1, 1, 1, 1, 1, 0, 0, 0, 0, 0, 1, 0, 1, 1, 0, 1, 0, 0, 0, 1,\n",
       "       0, 1, 0, 1, 1, 0, 0, 0, 0, 1, 0, 0, 0, 0, 1, 1, 1, 0, 0, 0, 0, 0,\n",
       "       0, 1, 0, 1, 1, 1, 1, 1, 0, 1, 0, 0, 0, 1, 0, 1, 1, 1, 0, 1, 1, 0,\n",
       "       1, 0, 1, 0, 0, 0, 1, 1, 0, 1, 1, 1, 1, 0, 0, 0, 1, 0, 0, 1, 1, 1,\n",
       "       0, 1, 0, 0, 0, 1, 0, 0, 1, 0, 1, 0, 1, 1, 1, 1, 1, 0, 0, 0, 0, 0,\n",
       "       0, 0, 1, 0, 0, 1, 1, 1, 0, 1, 0, 0, 0, 0, 0, 1, 0, 1, 1, 0, 0, 1,\n",
       "       1, 1, 1, 0, 0, 1, 1, 0, 0, 0, 1, 0, 0, 1, 0, 1, 0, 1, 0, 0, 0, 0,\n",
       "       0, 1, 0, 1, 1, 1, 1, 0, 0, 0, 1, 0, 1, 0, 0, 1, 0, 0, 0, 0, 0, 0,\n",
       "       1, 1, 0, 1, 0, 0, 1, 1, 0, 0, 1, 1, 0, 1, 0, 1, 0, 1, 0, 0, 1, 0,\n",
       "       0, 1, 0, 1, 1, 0, 1, 1, 1, 0, 1, 0, 0, 0, 0, 1, 1, 0, 0, 1, 1, 0,\n",
       "       1, 0, 0, 0, 0, 1, 1, 1, 1, 1, 1, 1, 1, 1, 1, 1, 1, 1, 1, 1, 1, 1,\n",
       "       1, 1, 1, 1, 1, 1, 1, 1, 1, 1, 1, 1, 1, 1], dtype=int64)"
      ]
     },
     "execution_count": 14,
     "metadata": {},
     "output_type": "execute_result"
    }
   ],
   "source": [
    "y_data"
   ]
  },
  {
   "cell_type": "code",
   "execution_count": 15,
   "id": "be8c381b",
   "metadata": {},
   "outputs": [
    {
     "name": "stdout",
     "output_type": "stream",
     "text": [
      "Counter({1: 150, 0: 150})\n"
     ]
    }
   ],
   "source": [
    "print(Counter(y_data))"
   ]
  },
  {
   "cell_type": "code",
   "execution_count": 16,
   "id": "882d591f",
   "metadata": {},
   "outputs": [
    {
     "data": {
      "text/plain": [
       "array([[ 1.7221965 ,  0.66237124,  0.8306281 , ...,  0.62635406,\n",
       "         2.42803622, -0.94609037],\n",
       "       [ 1.38451638, -1.52590695, -0.23171701, ...,  0.62635406,\n",
       "        -0.75952995,  1.12278496],\n",
       "       [ 0.25891598,  0.66237124, -1.29406213, ..., -1.02943078,\n",
       "        -0.75952995,  1.12278496],\n",
       "       ...,\n",
       "       [ 0.8636142 , -1.52590695,  0.8306281 , ...,  0.10662655,\n",
       "         1.42750415,  0.47339417],\n",
       "       [-0.95714991,  0.66237124,  0.62209908, ..., -1.02943078,\n",
       "        -0.75952995,  0.71668289],\n",
       "       [-0.77101586,  0.21257465,  0.8306281 , ...,  0.62635406,\n",
       "         0.92871522,  0.69753141]])"
      ]
     },
     "execution_count": 16,
     "metadata": {},
     "output_type": "execute_result"
    }
   ],
   "source": [
    "########----- Standardization------#######\n",
    "from sklearn.preprocessing import StandardScaler    # Standardization   -1 < x < +1\n",
    "ab=StandardScaler()                                 # Normalization:     0 < x < +1\n",
    "x_data1=ab.fit_transform(x_data)\n",
    "x_data1"
   ]
  },
  {
   "cell_type": "code",
   "execution_count": 17,
   "id": "828d864f",
   "metadata": {},
   "outputs": [],
   "source": [
    "########------ Normalization ------#######                       # Types of normalization 1) MinMax 2) Mean 3) Robust Scaling\n",
    "from sklearn import preprocessing\n",
    "import pandas as pd\n",
    "#####----- MinMax Scaling------#######\n",
    "# scaler = preprocessing.MinMaxScaler(feature_range=(0, 1))\n",
    "# names = dataset.columns\n",
    "# d = scaler.fit_transform(x_data)\n",
    "# d\n",
    "\n",
    "########----- Robust Scaling -------########\n",
    "# scaler = preprocessing.RobustScaler(with_centering=True, with_scaling=True,quantile_range=(25.0, 75.0))\n",
    "# #names = dataset.columns\n",
    "# d = scaler.fit_transform(x_data)\n",
    "# d"
   ]
  },
  {
   "cell_type": "code",
   "execution_count": 18,
   "id": "307532e9",
   "metadata": {},
   "outputs": [
    {
     "name": "stderr",
     "output_type": "stream",
     "text": [
      "C:\\Users\\Admin\\AppData\\Local\\Temp\\ipykernel_16520\\4033256688.py:8: UserWarning: \n",
      "\n",
      "`distplot` is a deprecated function and will be removed in seaborn v0.14.0.\n",
      "\n",
      "Please adapt your code to use either `displot` (a figure-level function with\n",
      "similar flexibility) or `histplot` (an axes-level function for histograms).\n",
      "\n",
      "For a guide to updating your code to use the new functions, please see\n",
      "https://gist.github.com/mwaskom/de44147ed2974457ad6372750bbe5751\n",
      "\n",
      "  ax = sns.distplot(x_data1,\n"
     ]
    },
    {
     "data": {
      "image/png": "[encoded data removed]",
      "text/plain": [
       "<Figure size 432x288 with 1 Axes>"
      ]
     },
     "metadata": {
      "needs_background": "light"
     },
     "output_type": "display_data"
    }
   ],
   "source": [
    "# import packages\n",
    "import scipy.stats as stats\n",
    "import seaborn as sns\n",
    "import matplotlib.pyplot as plt\n",
    " \n",
    " \n",
    "##########plotting a histogram\n",
    "ax = sns.distplot(x_data1,\n",
    "                  bins=50,\n",
    "                  kde=True,\n",
    "                  color='red',\n",
    "                  hist_kws={\"linewidth\": 15,'alpha':1})\n",
    "ax.set(xlabel='Normal Distribution', ylabel='Frequency')\n",
    " \n",
    "plt.show()"
   ]
  },
  {
   "cell_type": "code",
   "execution_count": null,
   "id": "4282df51",
   "metadata": {},
   "outputs": [],
   "source": []
  },
  {
   "cell_type": "code",
   "execution_count": 19,
   "id": "a9426a5f",
   "metadata": {},
   "outputs": [],
   "source": [
    "from sklearn.model_selection import train_test_split\n",
    "x_train, x_test, y_train, y_test = train_test_split(x_data1,y_data,test_size= 0.2, random_state=13)"
   ]
  },
  {
   "cell_type": "code",
   "execution_count": 20,
   "id": "0f13a13c",
   "metadata": {},
   "outputs": [
    {
     "data": {
      "text/html": [
       "<style>#sk-container-id-1 {color: black;background-color: white;}#sk-container-id-1 pre{padding: 0;}#sk-container-id-1 div.sk-toggleable {background-color: white;}#sk-container-id-1 label.sk-toggleable__label {cursor: pointer;display: block;width: 100%;margin-bottom: 0;padding: 0.3em;box-sizing: border-box;text-align: center;}#sk-container-id-1 label.sk-toggleable__label-arrow:before {content: \"▸\";float: left;margin-right: 0.25em;color: #696969;}#sk-container-id-1 label.sk-toggleable__label-arrow:hover:before {color: black;}#sk-container-id-1 div.sk-estimator:hover label.sk-toggleable__label-arrow:before {color: black;}#sk-container-id-1 div.sk-toggleable__content {max-height: 0;max-width: 0;overflow: hidden;text-align: left;background-color: #f0f8ff;}#sk-container-id-1 div.sk-toggleable__content pre {margin: 0.2em;color: black;border-radius: 0.25em;background-color: #f0f8ff;}#sk-container-id-1 input.sk-toggleable__control:checked~div.sk-toggleable__content {max-height: 200px;max-width: 100%;overflow: auto;}#sk-container-id-1 input.sk-toggleable__control:checked~label.sk-toggleable__label-arrow:before {content: \"▾\";}#sk-container-id-1 div.sk-estimator input.sk-toggleable__control:checked~label.sk-toggleable__label {background-color: #d4ebff;}#sk-container-id-1 div.sk-label input.sk-toggleable__control:checked~label.sk-toggleable__label {background-color: #d4ebff;}#sk-container-id-1 input.sk-hidden--visually {border: 0;clip: rect(1px 1px 1px 1px);clip: rect(1px, 1px, 1px, 1px);height: 1px;margin: -1px;overflow: hidden;padding: 0;position: absolute;width: 1px;}#sk-container-id-1 div.sk-estimator {font-family: monospace;background-color: #f0f8ff;border: 1px dotted black;border-radius: 0.25em;box-sizing: border-box;margin-bottom: 0.5em;}#sk-container-id-1 div.sk-estimator:hover {background-color: #d4ebff;}#sk-container-id-1 div.sk-parallel-item::after {content: \"\";width: 100%;border-bottom: 1px solid gray;flex-grow: 1;}#sk-container-id-1 div.sk-label:hover label.sk-toggleable__label {background-color: #d4ebff;}#sk-container-id-1 div.sk-serial::before {content: \"\";position: absolute;border-left: 1px solid gray;box-sizing: border-box;top: 0;bottom: 0;left: 50%;z-index: 0;}#sk-container-id-1 div.sk-serial {display: flex;flex-direction: column;align-items: center;background-color: white;padding-right: 0.2em;padding-left: 0.2em;position: relative;}#sk-container-id-1 div.sk-item {position: relative;z-index: 1;}#sk-container-id-1 div.sk-parallel {display: flex;align-items: stretch;justify-content: center;background-color: white;position: relative;}#sk-container-id-1 div.sk-item::before, #sk-container-id-1 div.sk-parallel-item::before {content: \"\";position: absolute;border-left: 1px solid gray;box-sizing: border-box;top: 0;bottom: 0;left: 50%;z-index: -1;}#sk-container-id-1 div.sk-parallel-item {display: flex;flex-direction: column;z-index: 1;position: relative;background-color: white;}#sk-container-id-1 div.sk-parallel-item:first-child::after {align-self: flex-end;width: 50%;}#sk-container-id-1 div.sk-parallel-item:last-child::after {align-self: flex-start;width: 50%;}#sk-container-id-1 div.sk-parallel-item:only-child::after {width: 0;}#sk-container-id-1 div.sk-dashed-wrapped {border: 1px dashed gray;margin: 0 0.4em 0.5em 0.4em;box-sizing: border-box;padding-bottom: 0.4em;background-color: white;}#sk-container-id-1 div.sk-label label {font-family: monospace;font-weight: bold;display: inline-block;line-height: 1.2em;}#sk-container-id-1 div.sk-label-container {text-align: center;}#sk-container-id-1 div.sk-container {/* jupyter's `normalize.less` sets `[hidden] { display: none; }` but bootstrap.min.css set `[hidden] { display: none !important; }` so we also need the `!important` here to be able to override the default hidden behavior on the sphinx rendered scikit-learn.org. See: https://github.com/scikit-learn/scikit-learn/issues/21755 */display: inline-block !important;position: relative;}#sk-container-id-1 div.sk-text-repr-fallback {display: none;}</style><div id=\"sk-container-id-1\" class=\"sk-top-container\"><div class=\"sk-text-repr-fallback\"><pre>LogisticRegression()</pre><b>In a Jupyter environment, please rerun this cell to show the HTML representation or trust the notebook. <br />On GitHub, the HTML representation is unable to render, please try loading this page with nbviewer.org.</b></div><div class=\"sk-container\" hidden><div class=\"sk-item\"><div class=\"sk-estimator sk-toggleable\"><input class=\"sk-toggleable__control sk-hidden--visually\" id=\"sk-estimator-id-1\" type=\"checkbox\" checked><label for=\"sk-estimator-id-1\" class=\"sk-toggleable__label sk-toggleable__label-arrow\">LogisticRegression</label><div class=\"sk-toggleable__content\"><pre>LogisticRegression()</pre></div></div></div></div></div>"
      ],
      "text/plain": [
       "LogisticRegression()"
      ]
     },
     "execution_count": 20,
     "metadata": {},
     "output_type": "execute_result"
    }
   ],
   "source": [
    "from sklearn.linear_model import LogisticRegression\n",
    "Lr=LogisticRegression()\n",
    "Lr.fit(x_train,y_train)"
   ]
  },
  {
   "cell_type": "code",
   "execution_count": 21,
   "id": "af503f4d",
   "metadata": {},
   "outputs": [
    {
     "data": {
      "text/plain": [
       "array([0, 0, 0, 1, 1, 1, 0, 1, 0, 1, 0, 0, 0, 0, 0, 0, 0, 0, 1, 1, 0, 0,\n",
       "       1, 1, 0, 0, 1, 1, 0, 1, 1, 1, 0, 0, 0, 1, 0, 0, 0, 1, 0, 1, 0, 1,\n",
       "       1, 0, 0, 0, 0, 1, 0, 1, 0, 1, 1, 0, 0, 0, 1, 0], dtype=int64)"
      ]
     },
     "execution_count": 21,
     "metadata": {},
     "output_type": "execute_result"
    }
   ],
   "source": [
    "y_pred= Lr.predict(x_test)\n",
    "y_pred"
   ]
  },
  {
   "cell_type": "code",
   "execution_count": 22,
   "id": "e39d8f18",
   "metadata": {},
   "outputs": [
    {
     "data": {
      "text/plain": [
       "array([0, 0, 0, 1, 1, 1, 0, 1, 1, 1, 0, 0, 1, 0, 1, 0, 0, 0, 1, 1, 0, 0,\n",
       "       1, 1, 0, 1, 1, 1, 0, 1, 1, 0, 0, 0, 0, 1, 0, 0, 0, 1, 1, 1, 0, 1,\n",
       "       1, 0, 0, 0, 1, 1, 0, 1, 0, 1, 1, 0, 0, 1, 1, 0], dtype=int64)"
      ]
     },
     "execution_count": 22,
     "metadata": {},
     "output_type": "execute_result"
    }
   ],
   "source": [
    "y_test"
   ]
  },
  {
   "cell_type": "code",
   "execution_count": 23,
   "id": "68556ba0",
   "metadata": {},
   "outputs": [
    {
     "name": "stdout",
     "output_type": "stream",
     "text": [
      "[[29  1]\n",
      " [ 7 23]]\n"
     ]
    }
   ],
   "source": [
    "from sklearn.metrics import confusion_matrix\n",
    "print(confusion_matrix(y_test,y_pred))"
   ]
  },
  {
   "cell_type": "code",
   "execution_count": 25,
   "id": "0df50ceb",
   "metadata": {},
   "outputs": [
    {
     "data": {
      "text/plain": [
       "0.8666666666666667"
      ]
     },
     "execution_count": 25,
     "metadata": {},
     "output_type": "execute_result"
    }
   ],
   "source": [
    "from sklearn.metrics import accuracy_score\n",
    "sc=accuracy_score(y_test,y_pred)\n",
    "sc"
   ]
  },
  {
   "cell_type": "markdown",
   "id": "1ac60824",
   "metadata": {},
   "source": [
    "## k fold cross validation"
   ]
  },
  {
   "cell_type": "code",
   "execution_count": 26,
   "id": "b9853afe",
   "metadata": {},
   "outputs": [
    {
     "name": "stdout",
     "output_type": "stream",
     "text": [
      "KFold(n_splits=5, random_state=10, shuffle=True)\n"
     ]
    }
   ],
   "source": [
    "from sklearn.model_selection import KFold\n",
    "kf=KFold(n_splits=5,random_state=10,shuffle=True)\n",
    "kf.get_n_splits(x_data)\n",
    "print(kf)"
   ]
  },
  {
   "cell_type": "code",
   "execution_count": 27,
   "id": "bc8a0202",
   "metadata": {},
   "outputs": [
    {
     "name": "stdout",
     "output_type": "stream",
     "text": [
      "[0.79166667 0.6875     0.83333333 0.85416667 0.875     ]\n",
      "[0 0 0 0 1 0 0 0 1 1 0 1 1 1 1 1 0 0 0 0 0 1 1 0 0 0 1 0 0 0 1 1 0 0 1 1 1\n",
      " 0 0 1 1 0 0 1 0 1 0 0 1 1 1 1 1 1 1 1 1 1 1 0]\n",
      "[0.8125     0.72916667 0.85416667 0.89583333 0.85416667]\n",
      "[1 1 1 0 1 0 0 1 0 0 1 0 0 0 1 0 0 1 0 0 1 0 0 0 1 1 0 0 0 0 0 1 1 1 0 1 1\n",
      " 0 0 1 0 1 0 0 1 1 0 1 1 0 0 1 1 1 1 1 1 0 1 1]\n",
      "[0.91666667 0.77083333 0.89583333 0.85416667 0.77083333]\n",
      "[1 0 1 1 1 0 0 1 1 0 1 0 0 0 1 1 0 0 0 1 1 0 1 0 1 0 0 0 0 0 1 0 1 0 1 0 0\n",
      " 1 0 1 1 1 0 0 0 0 0 0 0 0 0 0 1 1 1 1 1 1 1 1]\n",
      "[0.91666667 0.85416667 0.91666667 0.85416667 0.83333333]\n",
      "[1 1 0 0 1 0 0 0 1 0 0 0 0 0 0 0 0 0 1 1 1 0 0 0 0 0 1 0 1 0 1 0 0 0 0 1 1\n",
      " 1 0 0 0 1 1 1 1 1 0 1 0 1 0 0 1 1 0 0 0 0 0 1]\n",
      "[0.83333333 0.85416667 0.75       0.75       0.91666667]\n",
      "[0 1 0 0 1 0 1 1 1 1 0 1 0 0 0 0 0 0 0 1 1 1 0 1 1 0 1 0 0 1 1 1 0 1 1 1 0\n",
      " 0 0 1 1 1 0 1 0 1 0 1 1 0 0 0 1 0 0 1 0 1 1 1]\n"
     ]
    }
   ],
   "source": [
    "from sklearn.model_selection import cross_val_score\n",
    "from sklearn.model_selection import cross_val_predict\n",
    "l1=LogisticRegression()\n",
    "for train_data,test_data in kf.split(x_data1,y_data):\n",
    "    x_train,x_test=x_data1[train_data],x_data1[test_data]\n",
    "    y_train,y_test=y_data[train_data],y_data[test_data]\n",
    "    \n",
    "    score = cross_val_score(l1,x_train,y_train,cv=kf)\n",
    "    y_pred = cross_val_predict(l1,x_test,y_test)\n",
    "   \n",
    "    print(score)\n",
    "    print(y_pred)"
   ]
  },
  {
   "cell_type": "markdown",
   "id": "fb7d2443",
   "metadata": {},
   "source": [
    "# logistic regression"
   ]
  },
  {
   "cell_type": "code",
   "execution_count": 28,
   "id": "f92f3400",
   "metadata": {},
   "outputs": [],
   "source": [
    "score=cross_val_score(l1,x_train,y_train,cv=kf)"
   ]
  },
  {
   "cell_type": "code",
   "execution_count": 29,
   "id": "0792aa14",
   "metadata": {},
   "outputs": [
    {
     "data": {
      "text/plain": [
       "array([0.83333333, 0.85416667, 0.75      , 0.75      , 0.91666667])"
      ]
     },
     "execution_count": 29,
     "metadata": {},
     "output_type": "execute_result"
    }
   ],
   "source": [
    "score"
   ]
  },
  {
   "cell_type": "code",
   "execution_count": 30,
   "id": "966776d9",
   "metadata": {},
   "outputs": [],
   "source": [
    "y_pred1=cross_val_predict(l1,x_test,y_test)"
   ]
  },
  {
   "cell_type": "code",
   "execution_count": 31,
   "id": "18d80b92",
   "metadata": {},
   "outputs": [
    {
     "data": {
      "text/plain": [
       "array([0, 1, 0, 0, 1, 0, 1, 1, 1, 1, 0, 1, 0, 0, 0, 0, 0, 0, 0, 1, 1, 1,\n",
       "       0, 1, 1, 0, 1, 0, 0, 1, 1, 1, 0, 1, 1, 1, 0, 0, 0, 1, 1, 1, 0, 1,\n",
       "       0, 1, 0, 1, 1, 0, 0, 0, 1, 0, 0, 1, 0, 1, 1, 1], dtype=int64)"
      ]
     },
     "execution_count": 31,
     "metadata": {},
     "output_type": "execute_result"
    }
   ],
   "source": [
    "y_pred1"
   ]
  },
  {
   "cell_type": "code",
   "execution_count": null,
   "id": "6abd698b",
   "metadata": {},
   "outputs": [],
   "source": []
  },
  {
   "cell_type": "markdown",
   "id": "fbb381b6",
   "metadata": {},
   "source": [
    "# support vector machine"
   ]
  },
  {
   "cell_type": "code",
   "execution_count": 33,
   "id": "0bad976b",
   "metadata": {},
   "outputs": [],
   "source": [
    "\n",
    "from sklearn.svm import SVC \n",
    "s1=SVC()"
   ]
  },
  {
   "cell_type": "code",
   "execution_count": 34,
   "id": "6a967c85",
   "metadata": {},
   "outputs": [],
   "source": [
    "score1=cross_val_score(s1,x_train,y_train,cv=kf)\n",
    "y_pred2=cross_val_predict(s1,x_test,y_test)"
   ]
  },
  {
   "cell_type": "code",
   "execution_count": 35,
   "id": "f79ba02e",
   "metadata": {},
   "outputs": [
    {
     "data": {
      "text/plain": [
       "array([0.79166667, 0.875     , 0.79166667, 0.75      , 0.89583333])"
      ]
     },
     "execution_count": 35,
     "metadata": {},
     "output_type": "execute_result"
    }
   ],
   "source": [
    "score1"
   ]
  },
  {
   "cell_type": "code",
   "execution_count": 37,
   "id": "5197d3db",
   "metadata": {},
   "outputs": [
    {
     "data": {
      "text/plain": [
       "array([0, 1, 0, 0, 1, 0, 1, 1, 1, 1, 0, 1, 0, 0, 0, 0, 0, 0, 0, 1, 1, 1,\n",
       "       0, 1, 1, 1, 1, 0, 0, 1, 1, 1, 0, 1, 1, 1, 1, 0, 1, 1, 1, 1, 0, 1,\n",
       "       0, 1, 0, 1, 1, 1, 0, 0, 0, 1, 0, 1, 0, 1, 1, 1], dtype=int64)"
      ]
     },
     "execution_count": 37,
     "metadata": {},
     "output_type": "execute_result"
    }
   ],
   "source": [
    "y_pred1=cross_val_predict(s1,x_test,y_test)\n",
    "y_pred1"
   ]
  },
  {
   "cell_type": "markdown",
   "id": "f639783f",
   "metadata": {},
   "source": [
    "## KNN"
   ]
  },
  {
   "cell_type": "code",
   "execution_count": 46,
   "id": "62ca676a",
   "metadata": {},
   "outputs": [],
   "source": [
    "from sklearn.neighbors import KNeighborsClassifier\n",
    "k1=KNeighborsClassifier()"
   ]
  },
  {
   "cell_type": "code",
   "execution_count": 47,
   "id": "a7f334c3",
   "metadata": {},
   "outputs": [],
   "source": [
    "score2=cross_val_score(k1,x_train,y_train,cv=kf)\n",
    "y_pred3=cross_val_predict(k1,x_test,y_test)"
   ]
  },
  {
   "cell_type": "code",
   "execution_count": 48,
   "id": "f5513c34",
   "metadata": {},
   "outputs": [
    {
     "name": "stdout",
     "output_type": "stream",
     "text": [
      "Counter({1: 32, 0: 28})\n"
     ]
    }
   ],
   "source": [
    "print(Counter(y_test))"
   ]
  },
  {
   "cell_type": "code",
   "execution_count": 49,
   "id": "3f2688a1",
   "metadata": {},
   "outputs": [
    {
     "name": "stdout",
     "output_type": "stream",
     "text": [
      "Logistics [0 1 0 0 1 0 1 1 1 1 0 1 0 0 0 0 0 0 0 1 1 1 0 1 1 1 1 0 0 1 1 1 0 1 1 1 1\n",
      " 0 1 1 1 1 0 1 0 1 0 1 1 1 0 0 0 1 0 1 0 1 1 1]\n",
      "[0.83333333 0.85416667 0.75       0.75       0.91666667]\n"
     ]
    }
   ],
   "source": [
    "print(\"Logistics\",y_pred1)\n",
    "print(score)"
   ]
  },
  {
   "cell_type": "code",
   "execution_count": 50,
   "id": "367977e8",
   "metadata": {},
   "outputs": [
    {
     "name": "stdout",
     "output_type": "stream",
     "text": [
      "svm [0 1 0 0 1 0 1 1 1 1 0 1 0 0 0 0 0 0 0 1 1 1 0 1 1 1 1 0 0 1 1 1 0 1 1 1 1\n",
      " 0 1 1 1 1 0 1 0 1 0 1 1 1 0 0 0 1 0 1 0 1 1 1]\n",
      "[0.79166667 0.875      0.79166667 0.75       0.89583333]\n"
     ]
    }
   ],
   "source": [
    "print(\"svm\",y_pred2)\n",
    "print(score1)"
   ]
  },
  {
   "cell_type": "code",
   "execution_count": 51,
   "id": "372ec1a9",
   "metadata": {},
   "outputs": [
    {
     "name": "stdout",
     "output_type": "stream",
     "text": [
      "KNN [0 1 0 0 1 1 1 1 1 1 0 1 0 0 0 0 0 0 0 1 1 1 0 1 1 1 1 0 0 1 1 1 0 1 1 1 1\n",
      " 0 1 1 1 0 0 1 0 1 1 1 1 1 0 0 0 1 0 1 0 1 1 1]\n",
      "[0.70833333 0.83333333 0.72916667 0.75       0.85416667]\n"
     ]
    }
   ],
   "source": [
    "print(\"KNN\",y_pred3)\n",
    "print(score2)"
   ]
  },
  {
   "cell_type": "code",
   "execution_count": 52,
   "id": "10bc05bb",
   "metadata": {},
   "outputs": [
    {
     "name": "stdout",
     "output_type": "stream",
     "text": [
      "logistics 82.08333333333334 SVM 82.08333333333331 KNN 77.5\n"
     ]
    }
   ],
   "source": [
    "sco=np.mean(score)*100\n",
    "sco1=np.mean(score1)*100\n",
    "sco2=np.mean(score2)*100\n",
    "print(\"logistics\",sco,\"SVM\",sco1,\"KNN\",sco2)"
   ]
  },
  {
   "cell_type": "code",
   "execution_count": null,
   "id": "79448e40",
   "metadata": {},
   "outputs": [],
   "source": []
  },
  {
   "cell_type": "code",
   "execution_count": null,
   "id": "ae479d1f",
   "metadata": {},
   "outputs": [],
   "source": [
    "# import dataset\n",
    "# dataset.info()\n",
    "# LabelEncoding\n",
    "# Slicing ( indt & depe)\n",
    "# Balancing\n",
    "# Scaling (Indt variables only)\n",
    "# spliting x_train, y_train, x_test, y_test\n",
    "# or\n",
    "# Cross Validatin(leave one out, KFold, StratifiedKFold)\n",
    "# Model Fitting (using x_train, y_train)\n",
    "# Model Testing (using x_test)\n",
    "# y_Prediction \n",
    "# Confusion_matrix(y_pred,Y_Actual)\n",
    "# Accuracy Score\n"
   ]
  },
  {
   "cell_type": "code",
   "execution_count": 61,
   "id": "ea5be1c3",
   "metadata": {},
   "outputs": [
    {
     "name": "stderr",
     "output_type": "stream",
     "text": [
      "C:\\Users\\Admin\\AppData\\Local\\Temp\\ipykernel_17448\\653971793.py:8: UserWarning: \n",
      "\n",
      "`distplot` is a deprecated function and will be removed in seaborn v0.14.0.\n",
      "\n",
      "Please adapt your code to use either `displot` (a figure-level function with\n",
      "similar flexibility) or `histplot` (an axes-level function for histograms).\n",
      "\n",
      "For a guide to updating your code to use the new functions, please see\n",
      "https://gist.github.com/mwaskom/de44147ed2974457ad6372750bbe5751\n",
      "\n",
      "  ax = sns.distplot(x_data,\n"
     ]
    },
    {
     "data": {
      "image/png": "[encoded data removed]",
      "text/plain": [
       "<Figure size 432x288 with 1 Axes>"
      ]
     },
     "metadata": {
      "needs_background": "light"
     },
     "output_type": "display_data"
    }
   ],
   "source": [
    "# import packages\n",
    "import scipy.stats as stats\n",
    "import seaborn as sns\n",
    "import matplotlib.pyplot as plt\n",
    " \n",
    " \n",
    "##########plotting a histogram\n",
    "ax = sns.distplot(x_data,\n",
    "                  bins=50,\n",
    "                  kde=True,\n",
    "                  color='red',\n",
    "                  hist_kws={\"linewidth\": 15,'alpha':1})\n",
    "ax.set(xlabel='Normal Distribution', ylabel='Frequency')\n",
    " \n",
    "plt.show()"
   ]
  },
  {
   "cell_type": "code",
   "execution_count": 62,
   "id": "f75e1386",
   "metadata": {},
   "outputs": [],
   "source": [
    "data =stats.norm(scale=1, loc=0).rvs(1000)"
   ]
  },
  {
   "cell_type": "code",
   "execution_count": 63,
   "id": "5b297b30",
   "metadata": {},
   "outputs": [
    {
     "data": {
      "text/plain": [
       "array([-1.17597677e+00,  7.51863959e-01,  2.22551422e-01, -8.99149720e-02,\n",
       "        1.05150702e+00,  7.12712395e-01, -6.27696089e-01,  2.77695614e-01,\n",
       "       -8.61989355e-01,  1.12531675e+00,  1.11882588e-01,  8.42413953e-02,\n",
       "       -1.92850832e-01, -8.99256209e-01, -9.11770787e-01, -2.41017753e-02,\n",
       "        7.07880672e-01, -1.16924589e+00, -2.24351619e-01, -1.27271422e+00,\n",
       "        1.20844577e+00,  1.03157646e-01,  1.35221379e+00,  9.55392277e-01,\n",
       "        1.51941287e+00,  4.49929435e-01,  4.55404737e-01, -1.00440981e+00,\n",
       "       -1.29623695e+00,  1.39842093e-01,  1.15544312e+00,  4.08392230e-01,\n",
       "       -7.89849204e-02, -1.11807592e+00,  3.67771107e-01, -1.19519438e+00,\n",
       "        1.17790913e+00, -6.90482016e-01, -3.66997246e-01,  5.83923425e-01,\n",
       "        3.85162585e-01,  9.22904461e-01, -6.96355447e-01,  1.95700363e+00,\n",
       "        1.32622227e+00,  3.32224285e-01, -3.70195076e-01,  1.06979266e+00,\n",
       "       -1.92109722e+00,  4.91538818e-01,  4.51608274e-01,  1.85799190e+00,\n",
       "       -7.44414372e-01,  2.76544802e-01, -7.67335746e-01, -6.71962952e-01,\n",
       "       -2.16175504e-01,  3.83154023e-01, -1.54928701e+00, -1.03476808e+00,\n",
       "        1.12698091e+00,  2.34984938e+00, -6.93214318e-01,  1.47263585e+00,\n",
       "       -1.39162008e+00,  1.07747373e+00, -1.68678519e+00,  1.14673815e+00,\n",
       "        5.97510916e-01,  1.12463865e+00, -6.04818412e-01, -2.18595540e+00,\n",
       "        4.10203294e-01,  6.78570144e-01, -1.39612157e-01,  1.14198986e+00,\n",
       "       -1.96356094e-02,  2.11840207e+00, -1.57176601e+00, -3.78676007e-01,\n",
       "        3.23435524e+00, -1.94943734e+00,  3.35430539e-01, -2.10518539e-01,\n",
       "        1.04575706e+00, -2.34658449e+00,  2.24967739e-01, -3.52985583e-01,\n",
       "       -8.20058080e-01,  1.97302009e-01,  5.49205670e-01, -1.56529184e-01,\n",
       "        7.12009671e-01, -2.11215063e+00,  6.47034711e-01,  1.51995515e+00,\n",
       "        6.88099582e-01,  2.06833468e-01,  1.82014691e+00, -2.16798886e-01,\n",
       "       -4.87264954e-01,  5.85609250e-01,  5.33428110e-01,  2.02565013e-01,\n",
       "        6.14243361e-01,  1.87881570e+00, -2.81136323e-01, -6.26838565e-01,\n",
       "       -9.31149121e-01,  2.30267510e+00,  1.18487690e-01,  4.42592378e-01,\n",
       "       -1.04759908e+00,  8.82611197e-01, -2.13730975e-01, -1.25682410e+00,\n",
       "        1.09901690e+00, -1.86358444e+00,  7.57662780e-01, -1.65388203e-01,\n",
       "        1.11202885e+00,  1.22006082e+00,  6.07705491e-01,  4.93651178e-01,\n",
       "        6.44223148e-01, -1.05458434e+00,  2.99325355e+00, -5.51856659e-01,\n",
       "       -5.06996394e-01,  1.98062011e+00, -9.85058267e-01,  1.60678662e+00,\n",
       "        8.13060980e-02,  7.13854890e-01,  6.52657535e-01, -1.31875396e+00,\n",
       "        2.01345490e+00,  1.35330679e+00,  6.32451999e-01, -1.43625943e-01,\n",
       "       -1.61286961e+00,  5.78385228e-01, -3.71147236e-01,  8.65612863e-01,\n",
       "        1.08569820e+00,  5.92691578e-01,  9.41263765e-02,  9.37368050e-01,\n",
       "        1.45019928e-01, -1.22361779e+00,  8.25057528e-01,  1.24784622e-01,\n",
       "       -1.34427044e+00,  1.36816238e-01,  1.53105499e+00, -1.33758329e-01,\n",
       "       -3.66963355e-01, -4.26807759e-01,  3.52909453e-01, -3.77181281e-01,\n",
       "        6.30073258e-04,  1.13761903e-01, -7.63872226e-01, -6.89923361e-01,\n",
       "       -6.24117812e-01, -1.87422170e-01, -1.09215075e+00,  2.68823498e-01,\n",
       "       -1.88115666e-02,  2.27684943e+00,  6.23247519e-01,  2.29088091e-01,\n",
       "       -1.55269968e+00, -3.41067386e-01,  2.11223785e+00, -4.23488717e-01,\n",
       "       -8.74976409e-01,  5.01974724e-01,  1.33168453e+00,  1.22742399e-02,\n",
       "       -4.51978963e-01, -6.38491794e-02,  1.71470821e-01,  1.52082817e+00,\n",
       "        3.00443552e-01,  1.36588853e+00,  1.85600654e+00, -1.12445828e+00,\n",
       "       -5.47369843e-01,  1.01948079e+00,  4.63422754e-01, -4.82831073e-01,\n",
       "        1.68415997e+00,  1.13097857e+00,  5.44376652e-02, -1.42039422e+00,\n",
       "       -5.63894759e-01, -5.34068407e-01, -1.69709385e+00, -2.32919210e-01,\n",
       "       -4.41257119e-01, -6.00766757e-01, -2.03508793e+00, -5.51488734e-01,\n",
       "       -6.41844580e-02,  9.58743576e-01, -2.86959932e-01, -4.12747995e-01,\n",
       "        4.55768303e-01,  8.23622762e-01,  1.73611393e+00,  1.90671638e+00,\n",
       "        1.17082593e+00, -4.24074027e-01,  2.26938393e+00,  1.09482969e+00,\n",
       "       -1.27704150e+00, -8.04007575e-01,  2.64160227e-01,  9.04344136e-01,\n",
       "        5.84771173e-01, -6.72828289e-01, -7.61993769e-01, -1.52656888e+00,\n",
       "        7.80316702e-01, -2.93484809e-01,  1.55948110e+00, -9.62015121e-01,\n",
       "        9.43627777e-01, -5.11891404e-01,  1.58131357e-01,  8.54468646e-01,\n",
       "       -1.91254381e-01,  1.36249012e+00, -1.45654307e+00, -4.73343111e-01,\n",
       "       -7.75143789e-01, -9.62431648e-01,  4.19637272e-01,  6.06807567e-01,\n",
       "       -1.33800567e+00, -1.83778090e+00, -8.47719022e-02,  5.28607570e-01,\n",
       "       -1.07552896e+00,  1.99690331e-01, -1.34629345e+00, -4.92062899e-02,\n",
       "        6.60279882e-01, -9.73039384e-02, -8.12169444e-01,  3.18414173e-01,\n",
       "        1.71255915e-01, -1.72004190e-01,  5.39822199e-01, -8.01990716e-01,\n",
       "        2.44226241e-01, -1.45820257e+00,  5.60492986e-03,  2.80896521e-01,\n",
       "       -2.36980456e+00,  3.61001302e-01,  3.62801110e-01, -1.68259985e+00,\n",
       "       -6.58815859e-01,  8.95195728e-01, -1.29674973e+00,  1.78110988e-01,\n",
       "        9.81085508e-01, -3.29016945e-01,  5.75294987e-01,  1.35548603e-01,\n",
       "        5.13367783e-01,  9.97092151e-01, -1.51701553e+00, -1.10847749e+00,\n",
       "       -7.77769707e-02, -1.07068195e+00,  2.51796765e-01, -8.38446785e-01,\n",
       "       -9.26640714e-02, -3.36821579e-01,  1.05854911e+00, -4.02792392e-01,\n",
       "        9.55381992e-01, -1.09793733e+00,  7.23183113e-01,  3.38197742e-01,\n",
       "        1.23342899e+00,  1.79663185e-01, -1.53299947e+00,  1.71006144e+00,\n",
       "       -5.28254963e-01, -6.17787560e-01, -2.39522576e-01,  4.67946541e-01,\n",
       "       -9.31028958e-01, -1.01689279e+00, -4.51681685e-01,  6.27854288e-01,\n",
       "       -4.89042786e-01,  7.00863149e-01, -7.65032454e-01,  6.70601793e-01,\n",
       "       -2.53175969e-01,  1.12140505e+00,  5.87680894e-01, -1.97301194e-01,\n",
       "        2.02418101e-01,  1.81542302e-01,  8.88467322e-01, -1.55800990e+00,\n",
       "        8.70560054e-01, -1.09117540e+00,  1.83657949e+00,  1.92053747e-01,\n",
       "       -4.63015583e-01, -4.66676287e-02, -2.42714235e-01,  2.32352200e-01,\n",
       "        3.58458507e-01,  2.81636338e-03,  1.42957531e-01,  7.57882954e-02,\n",
       "       -1.89119122e-02,  4.41926500e-02, -8.00420985e-01, -2.69542903e-02,\n",
       "       -1.83560098e+00,  2.12612811e-01, -5.90361086e-02,  1.01715465e+00,\n",
       "        7.41487125e-01,  4.14834334e-01,  6.97816623e-01,  6.53215426e-01,\n",
       "        1.29291753e-01, -7.77160894e-01, -4.37680888e-01,  1.14663276e+00,\n",
       "       -3.37895821e-01,  1.99785302e-02,  1.99914534e+00, -2.21512837e+00,\n",
       "       -4.56983137e-01,  1.45925455e+00,  1.17176001e+00,  1.09644872e+00,\n",
       "        5.63098106e-01, -1.50384627e-01, -1.00382031e+00,  1.36127834e-02,\n",
       "       -2.50741130e-01, -1.25439419e-01, -7.51742727e-01,  6.63811121e-01,\n",
       "        4.55015800e-01, -5.57472691e-01, -1.66993312e+00,  1.11991797e+00,\n",
       "       -7.90086506e-01, -3.14278639e-01,  6.27683824e-01,  6.48414773e-01,\n",
       "        2.70021959e-01, -5.94951788e-01,  6.16776692e-01, -4.10463183e-01,\n",
       "       -2.16772849e+00, -4.14702920e-01, -8.72192616e-01, -5.39213101e-01,\n",
       "        1.06342429e+00, -9.13612635e-01, -8.29709713e-01, -2.15735845e-01,\n",
       "       -3.31029146e-01,  5.24329765e-01,  9.55189613e-01, -5.36421864e-01,\n",
       "       -9.41066508e-01,  2.28626574e-01, -3.60188851e-01, -5.10287811e-01,\n",
       "        2.41781415e-01,  6.48642910e-01, -1.46176768e+00,  1.39050040e+00,\n",
       "       -8.88218084e-01, -2.41589655e-01,  2.73506504e+00,  1.37392833e+00,\n",
       "       -1.55185810e+00,  1.63556906e+00,  4.80056669e-01,  1.47389166e+00,\n",
       "       -3.61991543e-01, -6.31817730e-01, -5.51675039e-01,  5.43186398e-01,\n",
       "       -5.88977238e-01, -1.08697513e+00,  8.11653325e-01,  1.38114551e+00,\n",
       "        3.98006223e-01, -2.43087225e+00, -6.25896965e-02,  2.67501894e-01,\n",
       "       -5.46384355e-01, -1.91784047e+00,  3.13116220e-01, -2.09304841e+00,\n",
       "        3.33536687e+00, -6.60633922e-02, -1.43142989e+00, -5.44128170e-01,\n",
       "       -6.60600128e-01,  1.83471877e+00,  2.12346835e-01,  1.09068443e-01,\n",
       "       -7.11698294e-01, -2.53869312e-01, -1.43489968e+00, -8.67178473e-01,\n",
       "        7.76665487e-01, -1.36428618e+00,  6.18465318e-01, -3.63513585e-01,\n",
       "       -1.40931690e+00,  4.33804951e-01, -9.43526555e-01, -1.78862097e+00,\n",
       "        1.12356475e+00,  9.05965218e-02,  1.81974387e+00,  1.48546915e+00,\n",
       "       -1.22832633e+00, -9.96731157e-02,  1.40964826e+00, -4.18752047e-02,\n",
       "       -2.45358397e-01,  6.71980148e-02, -7.80513134e-01,  8.71299636e-01,\n",
       "        1.03953016e+00, -3.27808680e-01, -9.84513394e-01,  2.04967116e+00,\n",
       "       -4.04690642e-01,  3.58840368e-01,  3.99524824e-01, -9.91863600e-01,\n",
       "        4.40593937e-01,  3.74463225e-01, -1.58670529e-01,  1.02483536e+00,\n",
       "        1.99828980e+00,  8.10316712e-01,  6.72904192e-01,  2.96311888e-01,\n",
       "        1.65593040e+00, -4.04623632e-01,  4.65078821e-02,  1.36798555e+00,\n",
       "        1.40054597e-02, -1.50223649e+00,  1.72911245e+00,  8.88634634e-01,\n",
       "       -7.53821410e-01,  3.92703723e-01,  7.61554677e-01, -1.61411775e-01,\n",
       "       -7.49207250e-02, -8.92971891e-01,  7.52021295e-01,  1.73275641e-01,\n",
       "        6.88694802e-02,  6.65203139e-01, -2.33890893e+00, -4.42537570e-02,\n",
       "       -2.17937541e-01,  9.79060539e-01,  7.84018826e-01, -7.36540955e-01,\n",
       "        1.48239176e+00,  2.26858544e-01, -1.12879708e+00,  3.19087089e-01,\n",
       "       -4.66394464e-01, -1.57941237e-01,  9.14987171e-02, -3.12231793e-01,\n",
       "        1.38173253e+00, -1.37354084e+00,  3.44002203e-01, -3.66938369e-01,\n",
       "        1.74191275e+00, -1.63663251e+00, -2.80515903e+00,  2.55072651e-02,\n",
       "       -2.20929063e-01, -4.75143451e-01, -2.02715041e+00, -2.23355614e-02,\n",
       "       -1.14954339e+00, -3.29811491e+00,  1.77186246e+00,  8.18440167e-01,\n",
       "       -7.61554718e-01,  7.12153945e-02, -5.52244099e-01,  3.19643982e-01,\n",
       "        1.20991639e-01,  1.91223763e+00, -3.93261467e-01,  6.69970340e-01,\n",
       "       -2.26186438e-01,  8.67468284e-02,  2.85619254e-01,  2.19121265e+00,\n",
       "       -1.90880993e+00, -2.27694080e-02, -4.48576591e-01,  1.25073868e+00,\n",
       "        1.05982194e+00,  1.86151436e+00,  3.33240100e-02, -2.34119710e-01,\n",
       "        2.38793155e-01,  1.43172218e+00, -2.06457906e+00, -1.98208071e-02,\n",
       "       -4.08127946e-01,  7.96792053e-02,  9.87135725e-01, -1.13129734e+00,\n",
       "       -3.47140507e-01, -9.79739316e-01, -1.01051220e-01,  2.19332681e-01,\n",
       "        1.07935875e+00,  4.30808082e-01,  9.36615654e-01, -7.71770492e-01,\n",
       "       -6.10235667e-01, -2.78869200e-01,  1.00728718e+00,  7.03671540e-01,\n",
       "       -9.32928649e-01, -1.46038523e+00, -1.23016796e+00,  2.28997020e+00,\n",
       "        1.70823524e+00, -5.55981412e-01, -1.55709558e-01,  4.97395869e-01,\n",
       "       -2.58696319e-01, -3.54600314e-01,  3.24213176e-01,  2.03580312e+00,\n",
       "       -1.56786926e+00,  4.68521824e-01,  7.47886631e-02,  1.01276977e+00,\n",
       "       -1.16219792e+00,  1.71581213e+00, -1.32837966e+00, -1.20161258e+00,\n",
       "       -3.57792283e-01,  9.22165510e-02, -2.41050832e-01,  7.76193903e-01,\n",
       "        4.10760145e-02, -9.83139935e-01,  1.43340809e+00, -9.73352531e-02,\n",
       "       -9.33865380e-01, -6.50457119e-01,  1.34196530e+00,  5.17939329e-01,\n",
       "        8.30517464e-01,  4.14785460e-01,  6.71551768e-01,  2.56266547e+00,\n",
       "        1.26125172e+00, -1.14369475e+00,  5.32221657e-01, -1.15196023e+00,\n",
       "       -3.52902452e-01,  4.43049381e-01, -7.87742348e-01, -1.63474631e-01,\n",
       "       -9.72788339e-01,  3.85963305e-01,  1.44055210e+00, -5.38462956e-01,\n",
       "       -8.09468659e-01,  1.15762294e+00,  1.26178913e+00,  1.78257677e-01,\n",
       "       -4.44703577e-01, -5.86022552e-01, -1.45979430e+00,  3.40906578e-01,\n",
       "        7.97306089e-01, -6.35348783e-02, -6.16792354e-01, -3.27365228e-01,\n",
       "        3.53696790e-03,  2.92072411e-02,  8.11699195e-01,  5.68922426e-01,\n",
       "       -1.90911741e+00, -3.44854591e-01, -8.48921343e-01, -1.72318428e+00,\n",
       "        2.33899563e-01, -2.03271465e+00,  1.36081989e+00,  1.24400964e-01,\n",
       "        1.54795596e+00,  1.02589128e+00, -1.27029685e+00,  1.92834457e-01,\n",
       "        3.35408933e-01, -7.42553940e-01,  1.58548470e+00, -1.05112946e+00,\n",
       "        1.47297346e+00, -2.03820848e+00,  4.92119633e-02,  8.77578544e-01,\n",
       "        1.65226146e+00,  8.67319471e-01, -2.03853764e+00, -1.33494813e+00,\n",
       "       -1.92953517e+00, -1.68519131e+00,  7.85386552e-01,  9.79315467e-01,\n",
       "       -9.86054063e-01, -2.77144197e-01,  1.93953685e-02, -3.34854789e-02,\n",
       "       -1.60144366e+00, -3.22061539e-01, -1.99267964e-01,  2.34304538e+00,\n",
       "       -5.42282716e-01, -5.29656305e-01,  8.18361293e-01, -1.79020244e-01,\n",
       "       -6.06806212e-01,  7.40370964e-01,  6.79287454e-01, -4.41150192e-01,\n",
       "       -1.33398428e+00,  3.94753823e-01,  5.81447275e-01,  1.53144891e+00,\n",
       "        6.83734059e-01,  9.18372903e-01,  1.19111218e+00,  5.51083519e-01,\n",
       "       -1.29194369e+00, -6.08331290e-01,  2.02938965e-01,  3.27355061e-01,\n",
       "       -8.41658840e-02, -1.19914682e+00,  1.47800004e+00, -2.11704057e+00,\n",
       "       -7.52665938e-01, -1.09803564e+00, -1.09682320e-01, -1.02910505e+00,\n",
       "       -2.17601961e+00, -5.66452757e-01, -1.61278566e+00,  2.80063110e-01,\n",
       "       -5.93981332e-01, -7.38880824e-01, -7.18831650e-01, -1.58800963e+00,\n",
       "       -1.44753445e-01, -7.05173289e-01,  6.74382961e-01, -5.75345205e-01,\n",
       "        9.52620210e-01, -1.29459827e+00, -5.30521156e-01,  1.38319569e+00,\n",
       "        2.47956050e-01, -1.64468877e+00, -1.87736521e-01,  4.97426278e-01,\n",
       "        3.40537448e-01,  1.76517164e-01, -1.40192609e+00,  3.24643456e-01,\n",
       "        9.09352820e-01, -2.38363189e-01,  3.20011757e-02, -2.33469661e-01,\n",
       "        3.11584641e+00,  1.57382801e-01, -1.59372222e-01, -5.09920045e-01,\n",
       "       -1.57130794e-01, -1.63065388e+00,  3.22355711e-01,  3.07077188e-01,\n",
       "       -1.45442092e+00,  1.25041744e+00,  1.64590769e+00, -8.31280702e-01,\n",
       "       -1.09784210e+00,  3.36726896e-01,  1.70661911e+00,  1.03722787e+00,\n",
       "       -8.15215900e-01,  2.53743395e+00,  5.86627321e-01, -7.75104013e-01,\n",
       "        1.52255734e+00,  1.01278472e+00, -3.47405470e-01,  1.55097396e-01,\n",
       "        3.63146429e-01,  5.68008818e-01, -5.79520083e-01,  5.08872917e-01,\n",
       "       -9.22893893e-01,  1.13855069e+00, -1.76999672e-01,  3.31867288e-01,\n",
       "        1.77902190e+00,  5.43533003e-01,  1.18489648e+00,  2.01807096e+00,\n",
       "       -8.20027339e-01,  7.35541246e-01,  3.28391850e-01,  2.16099219e+00,\n",
       "       -1.09858529e+00, -5.43695613e-01,  2.54252552e-01, -2.66761756e-01,\n",
       "        9.49146949e-01, -2.42622470e-01,  1.64384550e+00, -1.74072305e-01,\n",
       "       -3.51139548e-01,  1.24155481e+00,  7.53116823e-01,  1.40055274e-01,\n",
       "       -1.80370906e+00, -6.12077658e-01,  3.68769764e-01, -6.55046975e-01,\n",
       "       -2.02697111e+00, -1.36787225e+00, -5.36236404e-01,  1.05647822e+00,\n",
       "        2.57373059e-01, -4.62595189e-01,  6.75464100e-01,  2.37063781e+00,\n",
       "        1.87071367e-01,  6.34014162e-01, -8.50383063e-01, -3.99535864e-01,\n",
       "        3.40715395e-01,  9.11791801e-01,  3.65472141e+00,  1.59565483e+00,\n",
       "        1.00875963e+00,  6.55100178e-01, -2.69144854e-01,  1.57884939e+00,\n",
       "        1.02527508e+00,  5.81496591e-01, -8.45867951e-01,  1.04122816e+00,\n",
       "        9.55732360e-01, -5.49410620e-01, -1.02937328e+00,  1.82902055e-01,\n",
       "        2.33211560e-01, -1.36891119e+00, -4.02341830e-02, -9.24550937e-01,\n",
       "        1.00212236e+00,  9.06172684e-02,  4.15181888e-02, -1.19951358e+00,\n",
       "        4.00168433e-02, -6.52599130e-01, -4.26575614e-01,  1.92361047e-01,\n",
       "        6.25370888e-03,  8.34512549e-01,  2.19645400e-01,  1.17600152e-02,\n",
       "       -1.43087318e+00,  1.23417488e-01,  6.54767377e-01, -1.50199451e-01,\n",
       "       -2.04607490e+00, -6.36570472e-01,  8.95192484e-01, -9.45251369e-01,\n",
       "        5.47134975e-01,  4.01879597e-01, -7.71480367e-01, -1.11984555e-01,\n",
       "       -1.06103008e+00,  9.56777839e-01,  2.30692740e-01,  2.74009649e-01,\n",
       "        1.06182711e+00, -5.81005592e-01, -1.66171455e+00, -1.20902074e+00,\n",
       "        1.17411519e+00, -9.05399269e-01, -4.89608462e-01,  2.10808227e+00,\n",
       "       -9.00677809e-01,  5.16893048e-01,  3.76557358e-01,  3.69888239e-01,\n",
       "       -3.22233866e-02, -2.14627489e+00, -2.00269074e+00,  6.86112142e-01,\n",
       "       -4.90745077e-01,  4.20627480e-01,  2.31917332e+00, -8.76561004e-02,\n",
       "        2.06837529e+00,  1.74914482e+00,  1.60014572e+00, -1.46417395e-01,\n",
       "       -2.35895713e+00, -4.04136560e-01, -1.29787627e-01, -1.93583845e-01,\n",
       "        2.72199683e-01, -4.83617536e-01,  2.64684334e-01, -9.88561042e-01,\n",
       "       -2.20299656e+00, -8.86549323e-02,  2.49429927e-01,  1.61653751e-01,\n",
       "        4.87320858e-02, -5.64291761e-01,  1.52397742e-01,  4.70636892e-02,\n",
       "       -1.49131622e+00, -3.30825717e-01, -6.85614540e-02,  1.11197200e+00,\n",
       "       -1.18502146e+00,  2.29553159e-02, -3.87130338e-01,  5.69864216e-01,\n",
       "       -1.13759055e+00,  3.04770476e+00, -2.77179568e-01,  9.17617753e-01,\n",
       "        1.15753463e+00,  6.58833682e-01, -8.90163028e-01, -2.36063672e-01,\n",
       "        1.79668398e+00, -8.57988791e-01,  1.14231355e+00, -3.13687447e-01,\n",
       "        5.36660805e-01, -1.06091331e+00,  3.57775868e-01, -1.66748963e+00,\n",
       "       -1.14373718e+00,  1.19035564e+00,  8.67663844e-01, -1.04252945e-01,\n",
       "       -4.70552046e-01,  8.42295868e-01,  9.62827109e-01,  1.39174512e-01,\n",
       "       -7.55478070e-01,  2.59185986e-01, -1.29999540e-01, -2.21248995e-01,\n",
       "       -1.25937682e+00,  1.85808655e+00, -1.47145598e+00, -1.70028145e+00,\n",
       "        2.57667437e+00,  9.94471498e-01,  2.59427956e-02,  1.07416544e+00,\n",
       "        8.00819109e-01,  3.88564383e-01, -2.27838187e-02,  2.16329453e-01,\n",
       "       -1.14796297e+00,  1.98042192e+00, -1.52996887e+00,  5.63985214e-01,\n",
       "        9.61948804e-01,  1.41726190e+00, -1.17474315e+00, -9.61540637e-01,\n",
       "       -7.47796424e-01, -1.22829345e+00,  8.09193587e-01,  2.10643499e-01,\n",
       "       -2.56225701e-01,  1.47816348e-01, -1.93165448e+00, -4.19945136e-02,\n",
       "       -5.55904600e-01,  8.46462762e-01,  8.74077697e-01,  2.82797204e-02,\n",
       "        2.64927852e-01,  2.21115631e+00,  5.30557133e-01, -6.62041867e-01,\n",
       "       -8.42768530e-02, -2.71455003e+00, -1.89789220e-01, -1.90527150e-01,\n",
       "       -9.61254362e-01, -8.52162915e-01, -2.57572067e+00,  1.63523286e+00,\n",
       "       -1.36946886e+00, -2.32186524e-03, -1.59565307e+00,  1.13676072e+00,\n",
       "        4.17604688e-01, -6.26445695e-01, -1.17025805e+00, -1.00007111e+00,\n",
       "       -3.61184762e-01,  9.22446288e-01,  1.88662748e+00, -6.29184021e-01,\n",
       "        5.57586527e-01,  2.86284051e-01, -5.30276714e-01,  1.39622053e-01,\n",
       "        1.07075401e+00, -3.82734430e-01,  2.07489470e+00, -1.67637869e+00,\n",
       "       -1.75834110e+00, -1.16136831e+00,  2.10724383e-01, -3.26852263e-01,\n",
       "       -4.40973561e-01,  3.24675173e+00, -1.12044540e-01,  8.30094317e-01,\n",
       "        5.34174474e-01,  1.02760440e+00,  2.37448875e-01, -5.91886305e-01,\n",
       "       -1.19367374e-01,  3.32192765e-01,  1.12767085e-01, -3.28441409e-01,\n",
       "        4.56659854e-01,  1.51572087e+00,  1.83926784e+00, -4.02064888e-01,\n",
       "        4.33487377e-01,  7.44244005e-01, -1.88544432e+00,  1.02761923e+00,\n",
       "        9.76630593e-02,  4.47593900e-01,  8.28111959e-01,  6.35379260e-02,\n",
       "       -1.86333077e-01,  1.38734281e+00,  9.38201991e-02, -4.11513099e-01,\n",
       "        6.65800720e-01,  1.31976869e-01,  6.12177438e-01,  1.03798261e+00,\n",
       "        6.89316712e-01,  1.00244537e+00, -1.81863683e+00, -7.45310422e-01])"
      ]
     },
     "execution_count": 63,
     "metadata": {},
     "output_type": "execute_result"
    }
   ],
   "source": [
    "data"
   ]
  },
  {
   "cell_type": "code",
   "execution_count": 65,
   "id": "9f929f1b",
   "metadata": {},
   "outputs": [
    {
     "name": "stderr",
     "output_type": "stream",
     "text": [
      "C:\\Users\\Admin\\AppData\\Local\\Temp\\ipykernel_17448\\1663358673.py:1: UserWarning: \n",
      "\n",
      "`distplot` is a deprecated function and will be removed in seaborn v0.14.0.\n",
      "\n",
      "Please adapt your code to use either `displot` (a figure-level function with\n",
      "similar flexibility) or `histplot` (an axes-level function for histograms).\n",
      "\n",
      "For a guide to updating your code to use the new functions, please see\n",
      "https://gist.github.com/mwaskom/de44147ed2974457ad6372750bbe5751\n",
      "\n",
      "  ax = sns.distplot(data,\n"
     ]
    },
    {
     "data": {
      "image/png": "[encoded data removed]",
      "text/plain": [
       "<Figure size 432x288 with 1 Axes>"
      ]
     },
     "metadata": {
      "needs_background": "light"
     },
     "output_type": "display_data"
    }
   ],
   "source": [
    "ax = sns.distplot(data,\n",
    "                  bins=50,\n",
    "                  kde=True,\n",
    "                  color='red',\n",
    "                  hist_kws={\"linewidth\": 15,'alpha':1})\n",
    "ax.set(xlabel='Normal Distribution', ylabel='Frequency')\n",
    " \n",
    "plt.show()"
   ]
  },
  {
   "cell_type": "code",
   "execution_count": null,
   "id": "7bf53ccc",
   "metadata": {},
   "outputs": [],
   "source": []
  }
 ],
 "metadata": {
  "kernelspec": {
   "display_name": "Python 3 (ipykernel)",
   "language": "python",
   "name": "python3"
  },
  "language_info": {
   "codemirror_mode": {
    "name": "ipython",
    "version": 3
   },
   "file_extension": ".py",
   "mimetype": "text/x-python",
   "name": "python",
   "nbconvert_exporter": "python",
   "pygments_lexer": "ipython3",
   "version": "3.9.6"
  }
 },
 "nbformat": 4,
 "nbformat_minor": 5
}
